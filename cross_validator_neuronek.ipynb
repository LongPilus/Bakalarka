{
 "cells": [
  {
   "cell_type": "code",
   "execution_count": 1,
   "id": "cd9bc3a0",
   "metadata": {},
   "outputs": [],
   "source": [
    "# Imports\n",
    "import pandas as pd\n",
    "from tensorflow.keras import models, layers\n",
    "import matplotlib.pyplot as plt\n",
    "from lmfit.models import GaussianModel, VoigtModel, LinearModel, ConstantModel, SkewedGaussianModel\n",
    "import numpy as np\n",
    "from sklearn.preprocessing import StandardScaler\n",
    "from sklearn.decomposition import PCA\n",
    "from statistics import mean, median\n",
    "from scipy.stats import skewnorm, gamma\n",
    "from tqdm import tqdm\n",
    "import random\n",
    "import pandas as pd\n",
    "import tensorflow as tf\n",
    "import matplotlib.pyplot as plt\n",
    "import re\n",
    "import numpy as np\n",
    "#from sklearn.preprocessing import StandardScaler\n",
    "from sklearn.linear_model import LinearRegression\n",
    "from statistics import mean, median\n",
    "from tensorflow.keras import models, layers\n",
    "from tensorflow.keras.layers import BatchNormalization, Activation, Conv1D, Input, Flatten, Dense, Dropout, MaxPool1D\n",
    "from tensorflow.keras.optimizers import schedules, SGD, Adam\n",
    "from tensorflow.keras.callbacks import ModelCheckpoint\n",
    "from tensorflow.keras.initializers import HeNormal\n",
    "import tensorflow as tf\n",
    "import keras\n",
    "from tensorflow.keras.wrappers.scikit_learn import KerasRegressor\n",
    "from sklearn.model_selection import RepeatedKFold, cross_val_score\n",
    "from keras import regularizers, losses, metrics"
   ]
  },
  {
   "cell_type": "code",
   "execution_count": 2,
   "id": "456f7e8a",
   "metadata": {},
   "outputs": [],
   "source": [
    "# Load the dataset\n",
    "df = pd.read_csv('train_dataset_RAW.csv')\n",
    "# Parse the dataset\n",
    "cr = df['Cr']\n",
    "clean_df=df.T\n",
    "clean_df.drop(clean_df.tail(8).index, inplace=True)\n",
    "clean_df.index = clean_df.index.to_series().astype(str).str.replace('X','',regex=True).astype(float)\n",
    "clean_df.index = clean_df.index.astype(float)"
   ]
  },
  {
   "cell_type": "code",
   "execution_count": 16,
   "id": "1b7eff81",
   "metadata": {},
   "outputs": [
    {
     "name": "stdout",
     "output_type": "stream",
     "text": [
      "Model: \"sequential_96\"\n",
      "_________________________________________________________________\n",
      " Layer (type)                Output Shape              Param #   \n",
      "=================================================================\n",
      " dense_95 (Dense)            (None, 40002, 50)         100       \n",
      "                                                                 \n",
      " dense_96 (Dense)            (None, 40002, 50)         2550      \n",
      "                                                                 \n",
      " dense_97 (Dense)            (None, 40002, 50)         2550      \n",
      "                                                                 \n",
      " dense_98 (Dense)            (None, 40002, 1)          51        \n",
      "                                                                 \n",
      "=================================================================\n",
      "Total params: 5,251\n",
      "Trainable params: 5,251\n",
      "Non-trainable params: 0\n",
      "_________________________________________________________________\n"
     ]
    }
   ],
   "source": [
    "# Model architecture\n",
    "def buildmodel():\n",
    "    model = models.Sequential()\n",
    "    model.add(layers.Dense(50, activation='relu', input_shape = (40002 ,1)))\n",
    "    model.add(layers.Dense(50, activation='relu'))\n",
    "    model.add(layers.Dense(50, activation='relu'))\n",
    "    model.add(layers.Dense(1, activation=\"linear\"))\n",
    "\n",
    "\n",
    "\n",
    "    model.compile(loss='mse', optimizer=Adam(learning_rate=0.001), metrics=['mae'])\n",
    "    return model\n",
    "    \n",
    "model = buildmodel()\n",
    "model.summary()"
   ]
  },
  {
   "cell_type": "code",
   "execution_count": 18,
   "id": "a36cb0f8",
   "metadata": {},
   "outputs": [
    {
     "name": "stderr",
     "output_type": "stream",
     "text": [
      "\r",
      "  0%|                                                                                                                           | 0/30 [00:00<?, ?it/s]"
     ]
    },
    {
     "name": "stdout",
     "output_type": "stream",
     "text": [
      "Epoch 1/10\n",
      "175/175 [==============================] - 65s 368ms/step - loss: 146.1219 - mae: 9.7761\n",
      "Epoch 2/10\n",
      "175/175 [==============================] - 65s 374ms/step - loss: 108.2001 - mae: 9.5696\n",
      "Epoch 3/10\n",
      "175/175 [==============================] - 66s 377ms/step - loss: 108.1836 - mae: 9.5780\n",
      "Epoch 4/10\n",
      "175/175 [==============================] - 66s 379ms/step - loss: 107.6666 - mae: 9.5603\n",
      "Epoch 5/10\n",
      "175/175 [==============================] - 67s 382ms/step - loss: 107.7977 - mae: 9.5681\n",
      "Epoch 6/10\n",
      "175/175 [==============================] - 71s 406ms/step - loss: 107.9553 - mae: 9.5876\n",
      "Epoch 7/10\n",
      "175/175 [==============================] - 72s 414ms/step - loss: 107.7562 - mae: 9.5602\n",
      "Epoch 8/10\n",
      "175/175 [==============================] - 72s 409ms/step - loss: 107.6959 - mae: 9.5620\n",
      "Epoch 9/10\n",
      "175/175 [==============================] - 72s 412ms/step - loss: 107.8550 - mae: 9.5772\n",
      "Epoch 10/10\n",
      "175/175 [==============================] - 73s 414ms/step - loss: 107.4899 - mae: 9.5499\n"
     ]
    },
    {
     "name": "stderr",
     "output_type": "stream",
     "text": [
      "  0%|                                                                                                                           | 0/30 [14:13<?, ?it/s]\n"
     ]
    },
    {
     "ename": "MemoryError",
     "evalue": "Unable to allocate 36.5 GiB for an array with shape (350, 40002, 350) and data type float64",
     "output_type": "error",
     "traceback": [
      "\u001b[1;31m---------------------------------------------------------------------------\u001b[0m",
      "\u001b[1;31mMemoryError\u001b[0m                               Traceback (most recent call last)",
      "Cell \u001b[1;32mIn [18], line 28\u001b[0m\n\u001b[0;32m     26\u001b[0m Y_pred_test \u001b[38;5;241m=\u001b[39m model\u001b[38;5;241m.\u001b[39mpredict(X_test, verbose\u001b[38;5;241m=\u001b[39m\u001b[38;5;241m0\u001b[39m)\n\u001b[0;32m     27\u001b[0m \u001b[38;5;66;03m# Calculate and append RMSE\u001b[39;00m\n\u001b[1;32m---> 28\u001b[0m RMSE_list[k] \u001b[38;5;241m=\u001b[39m np\u001b[38;5;241m.\u001b[39msqrt(np\u001b[38;5;241m.\u001b[39mmean(\u001b[43mY_pred_test\u001b[49m\u001b[38;5;241;43m-\u001b[39;49m\u001b[43my_test\u001b[49m)\u001b[38;5;241m*\u001b[39m\u001b[38;5;241m*\u001b[39m\u001b[38;5;241m2\u001b[39m)\n",
      "\u001b[1;31mMemoryError\u001b[0m: Unable to allocate 36.5 GiB for an array with shape (350, 40002, 350) and data type float64"
     ]
    }
   ],
   "source": [
    "#XVD\n",
    "k_selections = 30\n",
    "test_sample_size = 7\n",
    "RMSE_list = np.zeros(k_selections)\n",
    "for k in tqdm(range(k_selections)):\n",
    "    # Divide data into training and testing set and reshape\n",
    "    unique_test_id = random.sample(range(42),test_sample_size)\n",
    "    test_id = [list(range(i*50,i*50+50)) for i in unique_test_id]\n",
    "    test_id = [item for sublist in test_id for item in sublist]\n",
    "    x_train = clean_df.drop(test_id, axis=1).to_numpy()\n",
    "    y_train = cr.drop(test_id).to_numpy()\n",
    "    x_test = clean_df.iloc[:,test_id].to_numpy()\n",
    "    y_test = cr.iloc[test_id].to_numpy()\n",
    "    x_train = np.swapaxes(x_train, 0, 1)\n",
    "    x_test = np.swapaxes(x_test, 0, 1)\n",
    "    # Scale data\n",
    "    x_scaler_mean = np.mean(x_train)\n",
    "    x_scaler_std = np.std(x_train)\n",
    "    X_train = (x_train[:,:, np.newaxis]-x_scaler_mean)/x_scaler_std\n",
    "    X_test = (x_test[:, :, np.newaxis]-x_scaler_mean)/x_scaler_std\n",
    "    # Build model\n",
    "    model = buildmodel()\n",
    "    # Fit model\n",
    "    history = model.fit(X_train, y_train, epochs=10, batch_size=10)#, verbose=0)\n",
    "    # Have model make prediction\n",
    "    Y_pred_test = model.predict(X_test, verbose=0)\n",
    "    # Calculate and append RMSE\n",
    "    RMSE_list[k] = np.sqrt(np.mean(Y_pred_test-y_test)**2)"
   ]
  },
  {
   "cell_type": "code",
   "execution_count": 12,
   "id": "6967767e",
   "metadata": {},
   "outputs": [
    {
     "data": {
      "text/plain": [
       "1.528098963810862"
      ]
     },
     "execution_count": 12,
     "metadata": {},
     "output_type": "execute_result"
    },
    {
     "data": {
      "image/png": "[encoded data removed]",
      "text/plain": [
       "<Figure size 640x480 with 1 Axes>"
      ]
     },
     "metadata": {},
     "output_type": "display_data"
    }
   ],
   "source": [
    "plt.hist(RMSE_list)\n",
    "np.mean(RMSE_list)"
   ]
  },
  {
   "cell_type": "code",
   "execution_count": null,
   "id": "c326b1eb",
   "metadata": {},
   "outputs": [],
   "source": []
  },
  {
   "cell_type": "code",
   "execution_count": null,
   "id": "b218b3d0",
   "metadata": {},
   "outputs": [],
   "source": []
  },
  {
   "cell_type": "code",
   "execution_count": null,
   "id": "b11baebf",
   "metadata": {},
   "outputs": [],
   "source": []
  },
  {
   "cell_type": "code",
   "execution_count": null,
   "id": "1322894f",
   "metadata": {},
   "outputs": [],
   "source": []
  }
 ],
 "metadata": {
  "kernelspec": {
   "display_name": "Python 3 (ipykernel)",
   "language": "python",
   "name": "python3"
  },
  "language_info": {
   "codemirror_mode": {
    "name": "ipython",
    "version": 3
   },
   "file_extension": ".py",
   "mimetype": "text/x-python",
   "name": "python",
   "nbconvert_exporter": "python",
   "pygments_lexer": "ipython3",
   "version": "3.10.5"
  }
 },
 "nbformat": 4,
 "nbformat_minor": 5
}
