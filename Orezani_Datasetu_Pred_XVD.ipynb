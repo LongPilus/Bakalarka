{
 "cells": [
  {
   "cell_type": "code",
   "execution_count": 100,
   "id": "d228f05e",
   "metadata": {},
   "outputs": [],
   "source": [
    "# Imports\n",
    "import pandas as pd\n",
    "from tensorflow.keras import models, layers\n",
    "import matplotlib.pyplot as plt\n",
    "import numpy as np\n",
    "from sklearn.preprocessing import StandardScaler\n",
    "from sklearn.decomposition import PCA, FastICA\n",
    "from statistics import mean, median\n",
    "from scipy.stats import skewnorm, gamma\n",
    "from tqdm import tqdm\n",
    "import random\n",
    "import pandas as pd\n",
    "import tensorflow as tf\n",
    "import matplotlib.pyplot as plt\n",
    "import numpy as np\n",
    "#from sklearn.preprocessing import StandardScaler\n",
    "from sklearn.linear_model import LinearRegression\n",
    "from statistics import mean, median\n",
    "from tensorflow.keras import models, layers\n",
    "from tensorflow.keras.layers import BatchNormalization, Activation, Conv1D, Input, Flatten, Dense, Dropout, MaxPool1D\n",
    "from tensorflow.keras.optimizers import schedules, SGD, Adam, RMSprop\n",
    "from tensorflow.keras.callbacks import ModelCheckpoint\n",
    "from tensorflow.keras.initializers import HeNormal\n",
    "import tensorflow as tf\n",
    "import keras\n",
    "from tensorflow.keras.wrappers.scikit_learn import KerasRegressor\n",
    "from sklearn.model_selection import RepeatedKFold, cross_val_score\n",
    "from keras import regularizers, losses, metrics"
   ]
  },
  {
   "cell_type": "code",
   "execution_count": 4,
   "id": "0a9c1598",
   "metadata": {},
   "outputs": [],
   "source": [
    "# Load the dataset\n",
    "df = pd.read_csv('train_dataset_RAW.csv')"
   ]
  },
  {
   "cell_type": "code",
   "execution_count": 140,
   "id": "823c770f",
   "metadata": {},
   "outputs": [
    {
     "data": {
      "text/plain": [
       "(13, 2100)"
      ]
     },
     "execution_count": 140,
     "metadata": {},
     "output_type": "execute_result"
    }
   ],
   "source": [
    "# Parse the dataset\n",
    "c = df['C']\n",
    "si = df['Si']\n",
    "mn = df['Mn']\n",
    "cr = df['Cr']\n",
    "mo = df['Mo']\n",
    "ni = df['Ni']\n",
    "cu = df['Cu']\n",
    "fe = df['Fe']\n",
    "clean_df=df.T\n",
    "clean_df.drop(clean_df.tail(8).index, inplace=True)\n",
    "clean_df.index = clean_df.index.to_series().astype(str).str.replace('X','',regex=True).astype(float)\n",
    "clean_df.index = clean_df.index.astype(float)\n",
    "clean_df = clean_df.loc[357.75:358,:]\n",
    "clean_df.shape"
   ]
  },
  {
   "cell_type": "code",
   "execution_count": 141,
   "id": "05df7080",
   "metadata": {},
   "outputs": [],
   "source": [
    "# Divide data into training/validation and testing set and reshape\n",
    "unique_test_id = [1, 6, 14, 24, 26, 30, 39]\n",
    "test_id = [list(range(i*50,i*50+50)) for i in unique_test_id]\n",
    "test_id = [item for sublist in test_id for item in sublist]\n",
    "x_train_val = clean_df.drop(test_id, axis=1).to_numpy()\n",
    "y_train_val = cr.drop(test_id).to_numpy()\n",
    "x_test = clean_df.iloc[:,test_id].to_numpy()\n",
    "y_test = cr.iloc[test_id].to_numpy()\n",
    "x_train_val = np.swapaxes(x_train_val, 0, 1)\n",
    "x_test = np.swapaxes(x_test, 0, 1)\n",
    "\n",
    "# Scale data\n",
    "x_scaler_mean = np.mean(x_train_val)\n",
    "x_scaler_std = np.std(x_train_val)\n",
    "X_train_val = (x_train_val-x_scaler_mean)/x_scaler_std\n",
    "X_test = (x_test-x_scaler_mean)/x_scaler_std"
   ]
  },
  {
   "cell_type": "code",
   "execution_count": 124,
   "id": "baea34b7",
   "metadata": {},
   "outputs": [
    {
     "name": "stderr",
     "output_type": "stream",
     "text": [
      "C:\\Users\\tdvorak\\Desktop\\bakalarka_lul\\.venv\\lib\\site-packages\\sklearn\\decomposition\\_fastica.py:494: FutureWarning: Starting in v1.3, whiten='unit-variance' will be used by default.\n",
      "  warnings.warn(\n"
     ]
    }
   ],
   "source": [
    "ica = FastICA(n_components=50, max_iter = 1000)\n",
    "train_val_features = ica.fit_transform(X_train_val)\n",
    "test_features = ica.transform(X_test)"
   ]
  },
  {
   "cell_type": "code",
   "execution_count": 123,
   "id": "feae5214",
   "metadata": {},
   "outputs": [
    {
     "data": {
      "text/plain": [
       "(1750, 20)"
      ]
     },
     "execution_count": 123,
     "metadata": {},
     "output_type": "execute_result"
    }
   ],
   "source": [
    "train_val_features.shape"
   ]
  },
  {
   "cell_type": "code",
   "execution_count": 94,
   "id": "26789982",
   "metadata": {},
   "outputs": [
    {
     "data": {
      "text/plain": [
       "(350, 100)"
      ]
     },
     "execution_count": 94,
     "metadata": {},
     "output_type": "execute_result"
    }
   ],
   "source": [
    "test_features.shape"
   ]
  },
  {
   "cell_type": "code",
   "execution_count": 148,
   "id": "4efbbbf2",
   "metadata": {},
   "outputs": [
    {
     "name": "stdout",
     "output_type": "stream",
     "text": [
      "Model: \"sequential_39\"\n",
      "_________________________________________________________________\n",
      " Layer (type)                Output Shape              Param #   \n",
      "=================================================================\n",
      " dense_120 (Dense)           (None, 13, 8)             16        \n",
      "                                                                 \n",
      " dense_121 (Dense)           (None, 13, 8)             72        \n",
      "                                                                 \n",
      " dense_122 (Dense)           (None, 13, 1)             9         \n",
      "                                                                 \n",
      "=================================================================\n",
      "Total params: 97\n",
      "Trainable params: 97\n",
      "Non-trainable params: 0\n",
      "_________________________________________________________________\n"
     ]
    }
   ],
   "source": [
    "#Define model architecture\n",
    "model = models.Sequential()\n",
    "model.add(layers.Dense(8, activation='LeakyReLU',input_shape = (13 ,1)))\n",
    "#model.add(layers.Dropout(0.1))\n",
    "model.add(layers.Dense(8, activation='LeakyReLU'))\n",
    "#model.add(layers.Dropout(0.1))\n",
    "model.add(layers.Dense(1, activation=\"linear\"))\n",
    "model.compile(loss='mse', optimizer=SGD(learning_rate=0.005), metrics=['mae'])\n",
    "model.summary()"
   ]
  },
  {
   "cell_type": "code",
   "execution_count": 149,
   "id": "cfb1c832",
   "metadata": {},
   "outputs": [
    {
     "name": "stdout",
     "output_type": "stream",
     "text": [
      "Epoch 1/100\n",
      "1750/1750 [==============================] - 3s 1ms/step - loss: 108.5600 - mae: 9.0973\n",
      "Epoch 2/100\n",
      "1750/1750 [==============================] - 2s 1ms/step - loss: 102.1455 - mae: 8.9582\n",
      "Epoch 3/100\n",
      "1750/1750 [==============================] - 2s 1ms/step - loss: 101.3885 - mae: 8.9296\n",
      "Epoch 4/100\n",
      "1750/1750 [==============================] - 2s 1ms/step - loss: 101.4909 - mae: 8.9025\n",
      "Epoch 5/100\n",
      "1750/1750 [==============================] - 2s 1ms/step - loss: 101.4232 - mae: 8.8942\n",
      "Epoch 6/100\n",
      "1750/1750 [==============================] - 2s 1ms/step - loss: 101.3333 - mae: 8.9069\n",
      "Epoch 7/100\n",
      "1750/1750 [==============================] - 2s 1ms/step - loss: 101.2395 - mae: 8.8940\n",
      "Epoch 8/100\n",
      "1750/1750 [==============================] - 2s 1ms/step - loss: 101.2802 - mae: 8.9021\n",
      "Epoch 9/100\n",
      "1750/1750 [==============================] - 3s 1ms/step - loss: 100.9494 - mae: 8.8586\n",
      "Epoch 10/100\n",
      "1750/1750 [==============================] - 2s 1ms/step - loss: 101.5172 - mae: 8.9073\n",
      "Epoch 11/100\n",
      "1750/1750 [==============================] - 2s 1ms/step - loss: 101.0738 - mae: 8.8636\n",
      "Epoch 12/100\n",
      "1750/1750 [==============================] - 2s 1ms/step - loss: 100.9162 - mae: 8.8870\n",
      "Epoch 13/100\n",
      "1750/1750 [==============================] - 2s 1ms/step - loss: 101.2154 - mae: 8.8843\n",
      "Epoch 14/100\n",
      "1750/1750 [==============================] - 2s 1ms/step - loss: 100.5291 - mae: 8.8190\n",
      "Epoch 15/100\n",
      "1750/1750 [==============================] - 2s 1ms/step - loss: 101.6350 - mae: 8.9256\n",
      "Epoch 16/100\n",
      "1750/1750 [==============================] - 2s 1ms/step - loss: 101.3825 - mae: 8.9010\n",
      "Epoch 17/100\n",
      "1750/1750 [==============================] - 2s 1ms/step - loss: 101.3881 - mae: 8.8886\n",
      "Epoch 18/100\n",
      "1750/1750 [==============================] - 2s 1ms/step - loss: 101.2508 - mae: 8.8920\n",
      "Epoch 19/100\n",
      "1750/1750 [==============================] - 2s 1ms/step - loss: 101.2225 - mae: 8.8929\n",
      "Epoch 20/100\n",
      "1750/1750 [==============================] - 2s 1ms/step - loss: 101.0736 - mae: 8.8710\n",
      "Epoch 21/100\n",
      "1750/1750 [==============================] - 2s 1ms/step - loss: 101.0133 - mae: 8.8627\n",
      "Epoch 22/100\n",
      "1750/1750 [==============================] - 2s 1ms/step - loss: 101.0606 - mae: 8.8657\n",
      "Epoch 23/100\n",
      "1750/1750 [==============================] - 2s 1ms/step - loss: 101.4390 - mae: 8.9028\n",
      "Epoch 24/100\n",
      "1750/1750 [==============================] - 3s 2ms/step - loss: 101.3385 - mae: 8.8685\n",
      "Epoch 25/100\n",
      "1750/1750 [==============================] - 2s 1ms/step - loss: 101.5043 - mae: 8.9129\n",
      "Epoch 26/100\n",
      "1750/1750 [==============================] - 2s 1ms/step - loss: 101.2542 - mae: 8.8764\n",
      "Epoch 27/100\n",
      "1750/1750 [==============================] - 2s 1ms/step - loss: 101.0784 - mae: 8.8809\n",
      "Epoch 28/100\n",
      "1750/1750 [==============================] - 2s 1ms/step - loss: 101.4265 - mae: 8.9125\n",
      "Epoch 29/100\n",
      "1750/1750 [==============================] - 2s 1ms/step - loss: 101.3999 - mae: 8.8985\n",
      "Epoch 30/100\n",
      "1750/1750 [==============================] - 2s 1ms/step - loss: 101.1827 - mae: 8.8929\n",
      "Epoch 31/100\n",
      "1750/1750 [==============================] - 2s 1ms/step - loss: 101.0985 - mae: 8.8788\n",
      "Epoch 32/100\n",
      "1750/1750 [==============================] - 2s 1ms/step - loss: 101.2884 - mae: 8.9033\n",
      "Epoch 33/100\n",
      "1020/1750 [================>.............] - ETA: 0s - loss: 101.2022 - mae: 8.8784"
     ]
    },
    {
     "ename": "KeyboardInterrupt",
     "evalue": "",
     "output_type": "error",
     "traceback": [
      "\u001b[1;31m---------------------------------------------------------------------------\u001b[0m",
      "\u001b[1;31mKeyboardInterrupt\u001b[0m                         Traceback (most recent call last)",
      "Cell \u001b[1;32mIn [149], line 1\u001b[0m\n\u001b[1;32m----> 1\u001b[0m history \u001b[38;5;241m=\u001b[39m \u001b[43mmodel\u001b[49m\u001b[38;5;241;43m.\u001b[39;49m\u001b[43mfit\u001b[49m\u001b[43m(\u001b[49m\u001b[43mX_train_val\u001b[49m\u001b[43m,\u001b[49m\u001b[43m \u001b[49m\u001b[43my_train_val\u001b[49m\u001b[43m,\u001b[49m\u001b[43m \u001b[49m\u001b[43mepochs\u001b[49m\u001b[38;5;241;43m=\u001b[39;49m\u001b[38;5;241;43m100\u001b[39;49m\u001b[43m,\u001b[49m\u001b[43m \u001b[49m\u001b[43mbatch_size\u001b[49m\u001b[38;5;241;43m=\u001b[39;49m\u001b[38;5;241;43m1\u001b[39;49m\u001b[43m)\u001b[49m\n",
      "File \u001b[1;32m~\\Desktop\\bakalarka_lul\\.venv\\lib\\site-packages\\keras\\utils\\traceback_utils.py:65\u001b[0m, in \u001b[0;36mfilter_traceback.<locals>.error_handler\u001b[1;34m(*args, **kwargs)\u001b[0m\n\u001b[0;32m     63\u001b[0m filtered_tb \u001b[38;5;241m=\u001b[39m \u001b[38;5;28;01mNone\u001b[39;00m\n\u001b[0;32m     64\u001b[0m \u001b[38;5;28;01mtry\u001b[39;00m:\n\u001b[1;32m---> 65\u001b[0m     \u001b[38;5;28;01mreturn\u001b[39;00m fn(\u001b[38;5;241m*\u001b[39margs, \u001b[38;5;241m*\u001b[39m\u001b[38;5;241m*\u001b[39mkwargs)\n\u001b[0;32m     66\u001b[0m \u001b[38;5;28;01mexcept\u001b[39;00m \u001b[38;5;167;01mException\u001b[39;00m \u001b[38;5;28;01mas\u001b[39;00m e:\n\u001b[0;32m     67\u001b[0m     filtered_tb \u001b[38;5;241m=\u001b[39m _process_traceback_frames(e\u001b[38;5;241m.\u001b[39m__traceback__)\n",
      "File \u001b[1;32m~\\Desktop\\bakalarka_lul\\.venv\\lib\\site-packages\\keras\\engine\\training.py:1555\u001b[0m, in \u001b[0;36mModel.fit\u001b[1;34m(self, x, y, batch_size, epochs, verbose, callbacks, validation_split, validation_data, shuffle, class_weight, sample_weight, initial_epoch, steps_per_epoch, validation_steps, validation_batch_size, validation_freq, max_queue_size, workers, use_multiprocessing)\u001b[0m\n\u001b[0;32m   1551\u001b[0m \u001b[38;5;28;01mwith\u001b[39;00m data_handler\u001b[38;5;241m.\u001b[39mcatch_stop_iteration():\n\u001b[0;32m   1552\u001b[0m     data_handler\u001b[38;5;241m.\u001b[39m_initial_step \u001b[38;5;241m=\u001b[39m data_handler\u001b[38;5;241m.\u001b[39m_initial_step \u001b[38;5;129;01mor\u001b[39;00m (\n\u001b[0;32m   1553\u001b[0m         \u001b[38;5;28mself\u001b[39m\u001b[38;5;241m.\u001b[39m_maybe_load_initial_step_from_ckpt()\n\u001b[0;32m   1554\u001b[0m     )\n\u001b[1;32m-> 1555\u001b[0m     \u001b[38;5;28;01mfor\u001b[39;00m step \u001b[38;5;129;01min\u001b[39;00m data_handler\u001b[38;5;241m.\u001b[39msteps():\n\u001b[0;32m   1556\u001b[0m         \u001b[38;5;28;01mwith\u001b[39;00m tf\u001b[38;5;241m.\u001b[39mprofiler\u001b[38;5;241m.\u001b[39mexperimental\u001b[38;5;241m.\u001b[39mTrace(\n\u001b[0;32m   1557\u001b[0m             \u001b[38;5;124m\"\u001b[39m\u001b[38;5;124mtrain\u001b[39m\u001b[38;5;124m\"\u001b[39m,\n\u001b[0;32m   1558\u001b[0m             epoch_num\u001b[38;5;241m=\u001b[39mepoch,\n\u001b[1;32m   (...)\u001b[0m\n\u001b[0;32m   1561\u001b[0m             _r\u001b[38;5;241m=\u001b[39m\u001b[38;5;241m1\u001b[39m,\n\u001b[0;32m   1562\u001b[0m         ):\n\u001b[0;32m   1563\u001b[0m             callbacks\u001b[38;5;241m.\u001b[39mon_train_batch_begin(step)\n",
      "File \u001b[1;32m~\\Desktop\\bakalarka_lul\\.venv\\lib\\site-packages\\keras\\engine\\data_adapter.py:1374\u001b[0m, in \u001b[0;36mDataHandler.steps\u001b[1;34m(self)\u001b[0m\n\u001b[0;32m   1372\u001b[0m \u001b[38;5;28;01mif\u001b[39;00m \u001b[38;5;28mself\u001b[39m\u001b[38;5;241m.\u001b[39m_insufficient_data:  \u001b[38;5;66;03m# Set by `catch_stop_iteration`.\u001b[39;00m\n\u001b[0;32m   1373\u001b[0m     \u001b[38;5;28;01mbreak\u001b[39;00m\n\u001b[1;32m-> 1374\u001b[0m original_spe \u001b[38;5;241m=\u001b[39m \u001b[38;5;28;43mself\u001b[39;49m\u001b[38;5;241;43m.\u001b[39;49m\u001b[43m_steps_per_execution\u001b[49m\u001b[38;5;241;43m.\u001b[39;49m\u001b[43mnumpy\u001b[49m\u001b[43m(\u001b[49m\u001b[43m)\u001b[49m\u001b[38;5;241m.\u001b[39mitem()\n\u001b[0;32m   1375\u001b[0m can_run_full_execution \u001b[38;5;241m=\u001b[39m (\n\u001b[0;32m   1376\u001b[0m     original_spe \u001b[38;5;241m==\u001b[39m \u001b[38;5;241m1\u001b[39m\n\u001b[0;32m   1377\u001b[0m     \u001b[38;5;129;01mor\u001b[39;00m \u001b[38;5;28mself\u001b[39m\u001b[38;5;241m.\u001b[39m_inferred_steps \u001b[38;5;129;01mis\u001b[39;00m \u001b[38;5;28;01mNone\u001b[39;00m\n\u001b[0;32m   1378\u001b[0m     \u001b[38;5;129;01mor\u001b[39;00m \u001b[38;5;28mself\u001b[39m\u001b[38;5;241m.\u001b[39m_inferred_steps \u001b[38;5;241m-\u001b[39m \u001b[38;5;28mself\u001b[39m\u001b[38;5;241m.\u001b[39m_current_step \u001b[38;5;241m>\u001b[39m\u001b[38;5;241m=\u001b[39m original_spe\n\u001b[0;32m   1379\u001b[0m )\n\u001b[0;32m   1381\u001b[0m \u001b[38;5;28;01mif\u001b[39;00m can_run_full_execution:\n",
      "File \u001b[1;32m~\\Desktop\\bakalarka_lul\\.venv\\lib\\site-packages\\tensorflow\\python\\ops\\resource_variable_ops.py:637\u001b[0m, in \u001b[0;36mBaseResourceVariable.numpy\u001b[1;34m(self)\u001b[0m\n\u001b[0;32m    635\u001b[0m \u001b[38;5;28;01mdef\u001b[39;00m \u001b[38;5;21mnumpy\u001b[39m(\u001b[38;5;28mself\u001b[39m):\n\u001b[0;32m    636\u001b[0m   \u001b[38;5;28;01mif\u001b[39;00m context\u001b[38;5;241m.\u001b[39mexecuting_eagerly():\n\u001b[1;32m--> 637\u001b[0m     \u001b[38;5;28;01mreturn\u001b[39;00m \u001b[38;5;28;43mself\u001b[39;49m\u001b[38;5;241;43m.\u001b[39;49m\u001b[43mread_value\u001b[49m\u001b[43m(\u001b[49m\u001b[43m)\u001b[49m\u001b[38;5;241m.\u001b[39mnumpy()\n\u001b[0;32m    638\u001b[0m   \u001b[38;5;28;01mraise\u001b[39;00m \u001b[38;5;167;01mNotImplementedError\u001b[39;00m(\n\u001b[0;32m    639\u001b[0m       \u001b[38;5;124m\"\u001b[39m\u001b[38;5;124mnumpy() is only available when eager execution is enabled.\u001b[39m\u001b[38;5;124m\"\u001b[39m)\n",
      "File \u001b[1;32m~\\Desktop\\bakalarka_lul\\.venv\\lib\\site-packages\\tensorflow\\python\\ops\\resource_variable_ops.py:728\u001b[0m, in \u001b[0;36mBaseResourceVariable.read_value\u001b[1;34m(self)\u001b[0m\n\u001b[0;32m    725\u001b[0m   value \u001b[38;5;241m=\u001b[39m \u001b[38;5;28mself\u001b[39m\u001b[38;5;241m.\u001b[39m_read_variable_op()\n\u001b[0;32m    726\u001b[0m \u001b[38;5;66;03m# Return an identity so it can get placed on whatever device the context\u001b[39;00m\n\u001b[0;32m    727\u001b[0m \u001b[38;5;66;03m# specifies instead of the device where the variable is.\u001b[39;00m\n\u001b[1;32m--> 728\u001b[0m \u001b[38;5;28;01mreturn\u001b[39;00m \u001b[43marray_ops\u001b[49m\u001b[38;5;241;43m.\u001b[39;49m\u001b[43midentity\u001b[49m\u001b[43m(\u001b[49m\u001b[43mvalue\u001b[49m\u001b[43m)\u001b[49m\n",
      "File \u001b[1;32m~\\Desktop\\bakalarka_lul\\.venv\\lib\\site-packages\\tensorflow\\python\\util\\traceback_utils.py:150\u001b[0m, in \u001b[0;36mfilter_traceback.<locals>.error_handler\u001b[1;34m(*args, **kwargs)\u001b[0m\n\u001b[0;32m    148\u001b[0m filtered_tb \u001b[38;5;241m=\u001b[39m \u001b[38;5;28;01mNone\u001b[39;00m\n\u001b[0;32m    149\u001b[0m \u001b[38;5;28;01mtry\u001b[39;00m:\n\u001b[1;32m--> 150\u001b[0m   \u001b[38;5;28;01mreturn\u001b[39;00m fn(\u001b[38;5;241m*\u001b[39margs, \u001b[38;5;241m*\u001b[39m\u001b[38;5;241m*\u001b[39mkwargs)\n\u001b[0;32m    151\u001b[0m \u001b[38;5;28;01mexcept\u001b[39;00m \u001b[38;5;167;01mException\u001b[39;00m \u001b[38;5;28;01mas\u001b[39;00m e:\n\u001b[0;32m    152\u001b[0m   filtered_tb \u001b[38;5;241m=\u001b[39m _process_traceback_frames(e\u001b[38;5;241m.\u001b[39m__traceback__)\n",
      "File \u001b[1;32m~\\Desktop\\bakalarka_lul\\.venv\\lib\\site-packages\\tensorflow\\python\\util\\dispatch.py:1176\u001b[0m, in \u001b[0;36madd_dispatch_support.<locals>.decorator.<locals>.op_dispatch_handler\u001b[1;34m(*args, **kwargs)\u001b[0m\n\u001b[0;32m   1174\u001b[0m \u001b[38;5;66;03m# Fallback dispatch system (dispatch v1):\u001b[39;00m\n\u001b[0;32m   1175\u001b[0m \u001b[38;5;28;01mtry\u001b[39;00m:\n\u001b[1;32m-> 1176\u001b[0m   \u001b[38;5;28;01mreturn\u001b[39;00m dispatch_target(\u001b[38;5;241m*\u001b[39margs, \u001b[38;5;241m*\u001b[39m\u001b[38;5;241m*\u001b[39mkwargs)\n\u001b[0;32m   1177\u001b[0m \u001b[38;5;28;01mexcept\u001b[39;00m (\u001b[38;5;167;01mTypeError\u001b[39;00m, \u001b[38;5;167;01mValueError\u001b[39;00m):\n\u001b[0;32m   1178\u001b[0m   \u001b[38;5;66;03m# Note: convert_to_eager_tensor currently raises a ValueError, not a\u001b[39;00m\n\u001b[0;32m   1179\u001b[0m   \u001b[38;5;66;03m# TypeError, when given unexpected types.  So we need to catch both.\u001b[39;00m\n\u001b[0;32m   1180\u001b[0m   result \u001b[38;5;241m=\u001b[39m dispatch(op_dispatch_handler, args, kwargs)\n",
      "File \u001b[1;32m~\\Desktop\\bakalarka_lul\\.venv\\lib\\site-packages\\tensorflow\\python\\ops\\array_ops.py:294\u001b[0m, in \u001b[0;36midentity\u001b[1;34m(input, name)\u001b[0m\n\u001b[0;32m    290\u001b[0m \u001b[38;5;28;01mif\u001b[39;00m context\u001b[38;5;241m.\u001b[39mexecuting_eagerly() \u001b[38;5;129;01mand\u001b[39;00m \u001b[38;5;129;01mnot\u001b[39;00m \u001b[38;5;28mhasattr\u001b[39m(\u001b[38;5;28minput\u001b[39m, \u001b[38;5;124m\"\u001b[39m\u001b[38;5;124mgraph\u001b[39m\u001b[38;5;124m\"\u001b[39m):\n\u001b[0;32m    291\u001b[0m   \u001b[38;5;66;03m# Make sure we get an input with handle data attached from resource\u001b[39;00m\n\u001b[0;32m    292\u001b[0m   \u001b[38;5;66;03m# variables. Variables have correct handle data when graph building.\u001b[39;00m\n\u001b[0;32m    293\u001b[0m   \u001b[38;5;28minput\u001b[39m \u001b[38;5;241m=\u001b[39m ops\u001b[38;5;241m.\u001b[39mconvert_to_tensor(\u001b[38;5;28minput\u001b[39m)\n\u001b[1;32m--> 294\u001b[0m ret \u001b[38;5;241m=\u001b[39m \u001b[43mgen_array_ops\u001b[49m\u001b[38;5;241;43m.\u001b[39;49m\u001b[43midentity\u001b[49m\u001b[43m(\u001b[49m\u001b[38;5;28;43minput\u001b[39;49m\u001b[43m,\u001b[49m\u001b[43m \u001b[49m\u001b[43mname\u001b[49m\u001b[38;5;241;43m=\u001b[39;49m\u001b[43mname\u001b[49m\u001b[43m)\u001b[49m\n\u001b[0;32m    295\u001b[0m \u001b[38;5;66;03m# Propagate handle data for happier shape inference for resource variables.\u001b[39;00m\n\u001b[0;32m    296\u001b[0m \u001b[38;5;28;01mif\u001b[39;00m \u001b[38;5;28mhasattr\u001b[39m(\u001b[38;5;28minput\u001b[39m, \u001b[38;5;124m\"\u001b[39m\u001b[38;5;124m_handle_data\u001b[39m\u001b[38;5;124m\"\u001b[39m):\n",
      "File \u001b[1;32m~\\Desktop\\bakalarka_lul\\.venv\\lib\\site-packages\\tensorflow\\python\\ops\\gen_array_ops.py:4068\u001b[0m, in \u001b[0;36midentity\u001b[1;34m(input, name)\u001b[0m\n\u001b[0;32m   4066\u001b[0m \u001b[38;5;28;01mif\u001b[39;00m tld\u001b[38;5;241m.\u001b[39mis_eager:\n\u001b[0;32m   4067\u001b[0m   \u001b[38;5;28;01mtry\u001b[39;00m:\n\u001b[1;32m-> 4068\u001b[0m     _result \u001b[38;5;241m=\u001b[39m \u001b[43mpywrap_tfe\u001b[49m\u001b[38;5;241;43m.\u001b[39;49m\u001b[43mTFE_Py_FastPathExecute\u001b[49m\u001b[43m(\u001b[49m\n\u001b[0;32m   4069\u001b[0m \u001b[43m      \u001b[49m\u001b[43m_ctx\u001b[49m\u001b[43m,\u001b[49m\u001b[43m \u001b[49m\u001b[38;5;124;43m\"\u001b[39;49m\u001b[38;5;124;43mIdentity\u001b[39;49m\u001b[38;5;124;43m\"\u001b[39;49m\u001b[43m,\u001b[49m\u001b[43m \u001b[49m\u001b[43mname\u001b[49m\u001b[43m,\u001b[49m\u001b[43m \u001b[49m\u001b[38;5;28;43minput\u001b[39;49m\u001b[43m)\u001b[49m\n\u001b[0;32m   4070\u001b[0m     \u001b[38;5;28;01mreturn\u001b[39;00m _result\n\u001b[0;32m   4071\u001b[0m   \u001b[38;5;28;01mexcept\u001b[39;00m _core\u001b[38;5;241m.\u001b[39m_NotOkStatusException \u001b[38;5;28;01mas\u001b[39;00m e:\n",
      "\u001b[1;31mKeyboardInterrupt\u001b[0m: "
     ]
    }
   ],
   "source": [
    "history = model.fit(X_train_val, y_train_val, epochs=100, batch_size=1)"
   ]
  },
  {
   "cell_type": "code",
   "execution_count": 53,
   "id": "0a0ea2f0",
   "metadata": {},
   "outputs": [
    {
     "data": {
      "text/plain": [
       "10.303537142857143"
      ]
     },
     "execution_count": 53,
     "metadata": {},
     "output_type": "execute_result"
    }
   ],
   "source": []
  },
  {
   "cell_type": "code",
   "execution_count": null,
   "id": "22d1361f",
   "metadata": {},
   "outputs": [],
   "source": [
    "# Model architecture\n",
    "def buildmodel():\n",
    "    model = models.Sequential()\n",
    "    model.add(layers.Conv1D(3, 3, activation='relu', input_shape = (40002 ,1)))\n",
    "    model.add(layers.MaxPooling1D(pool_size = 2))\n",
    "    model.add(layers.Conv1D(5, 5, activation='relu'))\n",
    "    model.add(layers.MaxPooling1D(pool_size = 2))\n",
    "    model.add(layers.Conv1D(7, 7, activation='relu'))\n",
    "    model.add(layers.Flatten())\n",
    "    model.add(layers.Dense(1, activation=\"linear\"))\n",
    "\n",
    "\n",
    "\n",
    "    model.compile(loss='mse', optimizer=Adam(learning_rate=0.002), metrics=['mae'])\n",
    "    return model\n",
    "    \n",
    "model = buildmodel()\n",
    "model.summary()"
   ]
  },
  {
   "cell_type": "code",
   "execution_count": null,
   "id": "09c8f9d6",
   "metadata": {},
   "outputs": [],
   "source": [
    "# Train model on all train_val data\n",
    "history = model.fit(X_train_val, y_train_val, epochs=100, batch_size=1, verbose=1)"
   ]
  },
  {
   "cell_type": "code",
   "execution_count": null,
   "id": "002df59a",
   "metadata": {},
   "outputs": [],
   "source": [
    "# Create a class activation map\n",
    "conv_output = model.get_layer('conv1d_23').output\n",
    "\n",
    "model2 = models.Model(model.inputs, outputs=[model.layers[1].output, model.layers[-1].output])\n",
    "\n",
    "conv, pred = model2.predict(X_train_val[np.newaxis,1])\n",
    "\n",
    "w, b = model2.get_layer(\"conv1d_23\").weights\n",
    "target = np.argmax(pred, axis=1).squeeze()\n",
    "weights = w[:, target].numpy()\n",
    "heatmap = conv.squeeze() @ weights"
   ]
  },
  {
   "cell_type": "code",
   "execution_count": null,
   "id": "77ad6253",
   "metadata": {},
   "outputs": [],
   "source": [
    "a = model2.predict(X_train_val[np.newaxis,1])"
   ]
  },
  {
   "cell_type": "code",
   "execution_count": null,
   "id": "1b6e93af",
   "metadata": {},
   "outputs": [],
   "source": [
    "model.layers[0].output"
   ]
  },
  {
   "cell_type": "code",
   "execution_count": null,
   "id": "a71d57a0",
   "metadata": {},
   "outputs": [],
   "source": []
  },
  {
   "cell_type": "code",
   "execution_count": null,
   "id": "4a5c84b9",
   "metadata": {},
   "outputs": [],
   "source": []
  },
  {
   "cell_type": "code",
   "execution_count": null,
   "id": "214e1eaf",
   "metadata": {},
   "outputs": [],
   "source": []
  },
  {
   "cell_type": "code",
   "execution_count": null,
   "id": "5dded7ef",
   "metadata": {},
   "outputs": [],
   "source": []
  },
  {
   "cell_type": "code",
   "execution_count": null,
   "id": "4b369d92",
   "metadata": {},
   "outputs": [],
   "source": []
  },
  {
   "cell_type": "code",
   "execution_count": null,
   "id": "0eeff544",
   "metadata": {},
   "outputs": [],
   "source": []
  },
  {
   "cell_type": "code",
   "execution_count": null,
   "id": "5ec98859",
   "metadata": {},
   "outputs": [],
   "source": []
  }
 ],
 "metadata": {
  "kernelspec": {
   "display_name": "Python 3 (ipykernel)",
   "language": "python",
   "name": "python3"
  },
  "language_info": {
   "codemirror_mode": {
    "name": "ipython",
    "version": 3
   },
   "file_extension": ".py",
   "mimetype": "text/x-python",
   "name": "python",
   "nbconvert_exporter": "python",
   "pygments_lexer": "ipython3",
   "version": "3.10.5"
  }
 },
 "nbformat": 4,
 "nbformat_minor": 5
}
