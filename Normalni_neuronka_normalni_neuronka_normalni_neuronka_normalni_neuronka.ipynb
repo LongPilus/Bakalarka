{
 "cells": [
  {
   "cell_type": "code",
   "execution_count": 1,
   "id": "5b372634",
   "metadata": {},
   "outputs": [],
   "source": [
    "# Imports\n",
    "import pandas as pd\n",
    "from tensorflow.keras import models, layers\n",
    "import matplotlib.pyplot as plt\n",
    "from lmfit.models import GaussianModel, VoigtModel, LinearModel, ConstantModel, SkewedGaussianModel\n",
    "import numpy as np\n",
    "from sklearn.preprocessing import StandardScaler\n",
    "from sklearn.decomposition import PCA\n",
    "from statistics import mean, median\n",
    "from scipy.stats import skewnorm, gamma\n",
    "from tqdm import tqdm\n",
    "import random\n",
    "import pandas as pd\n",
    "import tensorflow as tf\n",
    "import matplotlib.pyplot as plt\n",
    "import re\n",
    "import numpy as np\n",
    "#from sklearn.preprocessing import StandardScaler\n",
    "from sklearn.linear_model import LinearRegression\n",
    "from statistics import mean, median\n",
    "from tensorflow.keras import models, layers\n",
    "from tensorflow.keras.layers import BatchNormalization, Activation, Conv1D, Input, Flatten, Dense, Dropout, MaxPool1D\n",
    "from tensorflow.keras.optimizers import schedules, SGD, Adam\n",
    "from tensorflow.keras.callbacks import ModelCheckpoint\n",
    "from tensorflow.keras.initializers import HeNormal\n",
    "import tensorflow as tf\n",
    "import keras\n",
    "from tensorflow.keras.wrappers.scikit_learn import KerasRegressor\n",
    "from sklearn.model_selection import RepeatedKFold, cross_val_score\n",
    "from keras import regularizers, losses, metrics"
   ]
  },
  {
   "cell_type": "code",
   "execution_count": 2,
   "id": "1d442f5c",
   "metadata": {},
   "outputs": [],
   "source": [
    "# Load the dataset\n",
    "df = pd.read_csv('train_dataset_RAW.csv')"
   ]
  },
  {
   "cell_type": "code",
   "execution_count": 4,
   "id": "36d9daa5",
   "metadata": {},
   "outputs": [],
   "source": [
    "# Parse the dataset\n",
    "c = df['C']\n",
    "si = df['Si']\n",
    "mn = df['Mn']\n",
    "cr = df['Cr']\n",
    "mo = df['Mo']\n",
    "ni = df['Ni']\n",
    "cu = df['Cu']\n",
    "fe = df['Fe']\n",
    "clean_df=df.T\n",
    "clean_df.drop(clean_df.tail(8).index, inplace=True)\n",
    "clean_df.index = clean_df.index.to_series().astype(str).str.replace('X','',regex=True).astype(float)\n",
    "clean_df.index = clean_df.index.astype(float)"
   ]
  },
  {
   "cell_type": "code",
   "execution_count": 12,
   "id": "9d5fe1d6",
   "metadata": {},
   "outputs": [],
   "source": [
    "# Divide data into training and testing set and reshape\n",
    "unique_test_id = [1, 6, 14, 24, 26, 30, 39]\n",
    "test_id = [list(range(i*50,i*50+50)) for i in unique_test_id]\n",
    "test_id = [item for sublist in test_id for item in sublist]\n",
    "x_train = clean_df.drop(test_id, axis=1).to_numpy()\n",
    "y_train = mn.drop(test_id).to_numpy()\n",
    "x_test = clean_df.iloc[:,test_id].to_numpy()\n",
    "y_test = mn.iloc[test_id].to_numpy()\n",
    "x_train = np.swapaxes(x_train, 0, 1)\n",
    "x_test = np.swapaxes(x_test, 0, 1)"
   ]
  },
  {
   "cell_type": "code",
   "execution_count": 13,
   "id": "272e8351",
   "metadata": {},
   "outputs": [],
   "source": [
    "# Scale data\n",
    "x_scaler_mean = np.mean(x_train)\n",
    "x_scaler_std = np.std(x_train)\n",
    "\n",
    "X_train = (x_train[:,:, np.newaxis]-x_scaler_mean)/x_scaler_std\n",
    "X_test = (x_test[:, :, np.newaxis]-x_scaler_mean)/x_scaler_std"
   ]
  },
  {
   "cell_type": "code",
   "execution_count": 14,
   "id": "3ebce50f",
   "metadata": {},
   "outputs": [
    {
     "name": "stdout",
     "output_type": "stream",
     "text": [
      "Model: \"sequential_1\"\n",
      "_________________________________________________________________\n",
      " Layer (type)                Output Shape              Param #   \n",
      "=================================================================\n",
      " conv1d_3 (Conv1D)           (None, 40000, 3)          12        \n",
      "                                                                 \n",
      " max_pooling1d_2 (MaxPooling  (None, 20000, 3)         0         \n",
      " 1D)                                                             \n",
      "                                                                 \n",
      " conv1d_4 (Conv1D)           (None, 19996, 5)          80        \n",
      "                                                                 \n",
      " max_pooling1d_3 (MaxPooling  (None, 9998, 5)          0         \n",
      " 1D)                                                             \n",
      "                                                                 \n",
      " conv1d_5 (Conv1D)           (None, 9992, 7)           252       \n",
      "                                                                 \n",
      " flatten_1 (Flatten)         (None, 69944)             0         \n",
      "                                                                 \n",
      " dense_1 (Dense)             (None, 1)                 69945     \n",
      "                                                                 \n",
      "=================================================================\n",
      "Total params: 70,289\n",
      "Trainable params: 70,289\n",
      "Non-trainable params: 0\n",
      "_________________________________________________________________\n"
     ]
    }
   ],
   "source": [
    "# Model architecture\n",
    "def buildmodel():\n",
    "    model = models.Sequential()\n",
    "    model.add(layers.Conv1D(3, 3, activation='relu', input_shape = (40002 ,1)))\n",
    "    model.add(layers.MaxPooling1D(pool_size = 2))\n",
    "    model.add(layers.Conv1D(5, 5, activation='relu'))\n",
    "    model.add(layers.MaxPooling1D(pool_size = 2))\n",
    "    model.add(layers.Conv1D(7, 7, activation='relu'))\n",
    "    model.add(layers.Flatten())\n",
    "    model.add(layers.Dense(1, activation=\"linear\"))\n",
    "\n",
    "\n",
    "\n",
    "    model.compile(loss='mse', optimizer=Adam(learning_rate=0.001), metrics=['mae'])\n",
    "    return model\n",
    "    \n",
    "model = buildmodel()\n",
    "model.summary()"
   ]
  },
  {
   "cell_type": "code",
   "execution_count": 21,
   "id": "40cc3737",
   "metadata": {},
   "outputs": [
    {
     "name": "stdout",
     "output_type": "stream",
     "text": [
      "Epoch 1/20\n",
      "158/158 [==============================] - 11s 70ms/step - loss: 2.3591 - mae: 1.1371 - val_loss: 2.8468 - val_mae: 1.1752\n",
      "Epoch 2/20\n",
      "158/158 [==============================] - 12s 74ms/step - loss: 1.7663 - mae: 0.9537 - val_loss: 2.7134 - val_mae: 1.1267\n",
      "Epoch 3/20\n",
      "158/158 [==============================] - 13s 83ms/step - loss: 1.5217 - mae: 0.8770 - val_loss: 2.7689 - val_mae: 1.1736\n",
      "Epoch 4/20\n",
      "158/158 [==============================] - 13s 82ms/step - loss: 1.3016 - mae: 0.8401 - val_loss: 5.3743 - val_mae: 1.7358\n",
      "Epoch 5/20\n",
      "158/158 [==============================] - 13s 84ms/step - loss: 1.1308 - mae: 0.7893 - val_loss: 1.8788 - val_mae: 0.9575\n",
      "Epoch 6/20\n",
      "158/158 [==============================] - 13s 85ms/step - loss: 0.7987 - mae: 0.6640 - val_loss: 2.6852 - val_mae: 1.1827\n",
      "Epoch 7/20\n",
      "158/158 [==============================] - 13s 84ms/step - loss: 0.5377 - mae: 0.5573 - val_loss: 2.3231 - val_mae: 1.1238\n",
      "Epoch 8/20\n",
      "158/158 [==============================] - 13s 83ms/step - loss: 0.3929 - mae: 0.4859 - val_loss: 2.5114 - val_mae: 1.1977\n",
      "Epoch 9/20\n",
      "158/158 [==============================] - 13s 84ms/step - loss: 0.4397 - mae: 0.5281 - val_loss: 3.5464 - val_mae: 1.4377\n",
      "Epoch 10/20\n",
      "158/158 [==============================] - 13s 85ms/step - loss: 0.2775 - mae: 0.4104 - val_loss: 2.3514 - val_mae: 1.1605\n",
      "Epoch 11/20\n",
      "158/158 [==============================] - 14s 87ms/step - loss: 0.1566 - mae: 0.3110 - val_loss: 1.7567 - val_mae: 0.9593\n",
      "Epoch 12/20\n",
      "158/158 [==============================] - 14s 86ms/step - loss: 0.1699 - mae: 0.3203 - val_loss: 2.4573 - val_mae: 1.1715\n",
      "Epoch 13/20\n",
      "158/158 [==============================] - 13s 84ms/step - loss: 0.1036 - mae: 0.2450 - val_loss: 2.0936 - val_mae: 1.0491\n",
      "Epoch 14/20\n",
      "158/158 [==============================] - 13s 85ms/step - loss: 0.0840 - mae: 0.2201 - val_loss: 1.9933 - val_mae: 1.0307\n",
      "Epoch 15/20\n",
      "158/158 [==============================] - 14s 87ms/step - loss: 0.0741 - mae: 0.2030 - val_loss: 1.9336 - val_mae: 1.0161\n",
      "Epoch 16/20\n",
      "158/158 [==============================] - 14s 86ms/step - loss: 0.0670 - mae: 0.1935 - val_loss: 2.1751 - val_mae: 1.1082\n",
      "Epoch 17/20\n",
      "158/158 [==============================] - 13s 83ms/step - loss: 0.0595 - mae: 0.1862 - val_loss: 2.4458 - val_mae: 1.1903\n",
      "Epoch 18/20\n",
      "158/158 [==============================] - 13s 82ms/step - loss: 0.0820 - mae: 0.2167 - val_loss: 2.2145 - val_mae: 1.1233\n",
      "Epoch 19/20\n",
      "158/158 [==============================] - 13s 82ms/step - loss: 0.0723 - mae: 0.2092 - val_loss: 2.1971 - val_mae: 1.1036\n",
      "Epoch 20/20\n",
      "158/158 [==============================] - 13s 82ms/step - loss: 0.0696 - mae: 0.2049 - val_loss: 2.2654 - val_mae: 1.1304\n"
     ]
    }
   ],
   "source": [
    "history = model.fit(X_train, y_train, epochs=20, batch_size=10, validation_split=0.1)"
   ]
  },
  {
   "cell_type": "code",
   "execution_count": 16,
   "id": "dcac459f",
   "metadata": {},
   "outputs": [
    {
     "name": "stdout",
     "output_type": "stream",
     "text": [
      "55/55 [==============================] - 4s 68ms/step\n",
      "11/11 [==============================] - 1s 69ms/step\n"
     ]
    },
    {
     "data": {
      "text/plain": [
       "0.06813466330936979"
      ]
     },
     "execution_count": 16,
     "metadata": {},
     "output_type": "execute_result"
    },
    {
     "data": {
      "image/png": "[encoded data removed]",
      "text/plain": [
       "<Figure size 640x480 with 1 Axes>"
      ]
     },
     "metadata": {},
     "output_type": "display_data"
    }
   ],
   "source": [
    "Y_pred_train = model.predict(X_train)\n",
    "Y_pred_test = model.predict(X_test)\n",
    "\n",
    "plt.scatter(x=y_train, y=Y_pred_train, marker='*')\n",
    "plt.scatter(x=y_test, y=Y_pred_test, marker='*')\n",
    "plt.scatter(x=y_train, y=y_train, marker='o')\n",
    "plt.scatter(x=y_test, y=y_test, marker='o')\n",
    "np.sqrt(np.mean(Y_pred_test-y_test)**2)"
   ]
  },
  {
   "cell_type": "code",
   "execution_count": 17,
   "id": "a40091bf",
   "metadata": {
    "scrolled": false
   },
   "outputs": [
    {
     "name": "stderr",
     "output_type": "stream",
     "text": [
      "\r",
      "  0%|                                                                                                                                                                                                           | 0/10 [00:00<?, ?it/s]"
     ]
    },
    {
     "name": "stdout",
     "output_type": "stream",
     "text": [
      "Epoch 1/5\n",
      "350/350 [==============================] - 14s 35ms/step - loss: 37.5527 - mae: 4.1622\n",
      "Epoch 2/5\n",
      "350/350 [==============================] - 12s 36ms/step - loss: 25.5509 - mae: 3.2456\n",
      "Epoch 3/5\n",
      "350/350 [==============================] - 15s 42ms/step - loss: 22.5522 - mae: 3.0373\n",
      "Epoch 4/5\n",
      "350/350 [==============================] - 14s 40ms/step - loss: 18.6598 - mae: 2.7741\n",
      "Epoch 5/5\n",
      "350/350 [==============================] - 15s 43ms/step - loss: 13.1704 - mae: 2.3897\n",
      "55/55 [==============================] - 5s 82ms/step\n",
      "11/11 [==============================] - 1s 83ms/step\n"
     ]
    },
    {
     "name": "stderr",
     "output_type": "stream",
     "text": [
      "\r",
      " 10%|███████████████████▌                                                                                                                                                                               | 1/10 [01:19<11:58, 79.81s/it]"
     ]
    },
    {
     "name": "stdout",
     "output_type": "stream",
     "text": [
      "Epoch 1/5\n",
      "350/350 [==============================] - 14s 39ms/step - loss: 41.4180 - mae: 4.5207\n",
      "Epoch 2/5\n",
      "350/350 [==============================] - 14s 41ms/step - loss: 25.1078 - mae: 3.2401\n",
      "Epoch 3/5\n",
      "350/350 [==============================] - 14s 41ms/step - loss: 19.9030 - mae: 2.8416\n",
      "Epoch 4/5\n",
      "350/350 [==============================] - 15s 44ms/step - loss: 12.8842 - mae: 2.4396\n",
      "Epoch 5/5\n",
      "350/350 [==============================] - 15s 42ms/step - loss: 6.9857 - mae: 1.9709\n",
      "55/55 [==============================] - 5s 82ms/step\n",
      "11/11 [==============================] - 1s 80ms/step\n"
     ]
    },
    {
     "name": "stderr",
     "output_type": "stream",
     "text": [
      "\r",
      " 20%|███████████████████████████████████████                                                                                                                                                            | 2/10 [02:42<10:50, 81.36s/it]"
     ]
    },
    {
     "name": "stdout",
     "output_type": "stream",
     "text": [
      "Epoch 1/5\n",
      "350/350 [==============================] - 14s 40ms/step - loss: 23.6572 - mae: 3.3327\n",
      "Epoch 2/5\n",
      "350/350 [==============================] - 15s 42ms/step - loss: 7.0408 - mae: 1.9479\n",
      "Epoch 3/5\n",
      "350/350 [==============================] - 15s 43ms/step - loss: 3.7162 - mae: 1.4478\n",
      "Epoch 4/5\n",
      "350/350 [==============================] - 14s 41ms/step - loss: 2.1327 - mae: 1.1097\n",
      "Epoch 5/5\n",
      "350/350 [==============================] - 15s 41ms/step - loss: 1.0464 - mae: 0.7941\n",
      "55/55 [==============================] - 5s 84ms/step\n",
      "11/11 [==============================] - 1s 87ms/step\n"
     ]
    },
    {
     "name": "stderr",
     "output_type": "stream",
     "text": [
      "\r",
      " 30%|██████████████████████████████████████████████████████████▌                                                                                                                                        | 3/10 [04:04<09:33, 81.89s/it]"
     ]
    },
    {
     "name": "stdout",
     "output_type": "stream",
     "text": [
      "Epoch 1/5\n",
      "350/350 [==============================] - 15s 41ms/step - loss: 33.7714 - mae: 3.9074\n",
      "Epoch 2/5\n",
      "350/350 [==============================] - 15s 42ms/step - loss: 25.2473 - mae: 3.2189\n",
      "Epoch 3/5\n",
      "350/350 [==============================] - 15s 43ms/step - loss: 20.1921 - mae: 2.8140\n",
      "Epoch 4/5\n",
      "350/350 [==============================] - 14s 41ms/step - loss: 15.8072 - mae: 2.6044\n",
      "Epoch 5/5\n",
      "350/350 [==============================] - 15s 42ms/step - loss: 10.2014 - mae: 2.1971\n",
      "55/55 [==============================] - 5s 84ms/step\n",
      "11/11 [==============================] - 1s 81ms/step\n"
     ]
    },
    {
     "name": "stderr",
     "output_type": "stream",
     "text": [
      "\r",
      " 40%|██████████████████████████████████████████████████████████████████████████████                                                                                                                     | 4/10 [05:27<08:13, 82.28s/it]"
     ]
    },
    {
     "name": "stdout",
     "output_type": "stream",
     "text": [
      "Epoch 1/5\n",
      "350/350 [==============================] - 14s 39ms/step - loss: 35.4836 - mae: 4.0013\n",
      "Epoch 2/5\n",
      "350/350 [==============================] - 14s 40ms/step - loss: 23.3885 - mae: 3.0578\n",
      "Epoch 3/5\n",
      "350/350 [==============================] - 15s 42ms/step - loss: 18.6022 - mae: 2.7071\n",
      "Epoch 4/5\n",
      "350/350 [==============================] - 16s 46ms/step - loss: 11.9250 - mae: 2.2592\n",
      "Epoch 5/5\n",
      "350/350 [==============================] - 15s 42ms/step - loss: 7.7079 - mae: 1.9867\n",
      "55/55 [==============================] - 5s 81ms/step\n",
      "11/11 [==============================] - 1s 81ms/step\n"
     ]
    },
    {
     "name": "stderr",
     "output_type": "stream",
     "text": [
      "\r",
      " 50%|█████████████████████████████████████████████████████████████████████████████████████████████████▌                                                                                                 | 5/10 [06:50<06:52, 82.59s/it]"
     ]
    },
    {
     "name": "stdout",
     "output_type": "stream",
     "text": [
      "Epoch 1/5\n",
      "350/350 [==============================] - 16s 44ms/step - loss: 36.7384 - mae: 4.0665\n",
      "Epoch 2/5\n",
      "350/350 [==============================] - 17s 49ms/step - loss: 25.6816 - mae: 3.3821\n",
      "Epoch 3/5\n",
      "350/350 [==============================] - 15s 44ms/step - loss: 20.6904 - mae: 2.9601\n",
      "Epoch 4/5\n",
      "350/350 [==============================] - 14s 41ms/step - loss: 15.9667 - mae: 2.6329\n",
      "Epoch 5/5\n",
      "350/350 [==============================] - 14s 41ms/step - loss: 11.1235 - mae: 2.3402\n",
      "55/55 [==============================] - 5s 82ms/step\n",
      "11/11 [==============================] - 1s 82ms/step\n"
     ]
    },
    {
     "name": "stderr",
     "output_type": "stream",
     "text": [
      "\r",
      " 60%|█████████████████████████████████████████████████████████████████████████████████████████████████████████████████████                                                                              | 6/10 [08:17<05:35, 83.93s/it]"
     ]
    },
    {
     "name": "stdout",
     "output_type": "stream",
     "text": [
      "Epoch 1/5\n",
      "350/350 [==============================] - 15s 41ms/step - loss: 32.5412 - mae: 3.7965\n",
      "Epoch 2/5\n",
      "350/350 [==============================] - 15s 42ms/step - loss: 23.2566 - mae: 3.0630\n",
      "Epoch 3/5\n",
      "350/350 [==============================] - 15s 41ms/step - loss: 17.2423 - mae: 2.6964\n",
      "Epoch 4/5\n",
      "350/350 [==============================] - 16s 45ms/step - loss: 11.3198 - mae: 2.3497\n",
      "Epoch 5/5\n",
      "350/350 [==============================] - 16s 45ms/step - loss: 5.1939 - mae: 1.6551\n",
      "55/55 [==============================] - 5s 85ms/step\n",
      "11/11 [==============================] - 1s 88ms/step\n"
     ]
    },
    {
     "name": "stderr",
     "output_type": "stream",
     "text": [
      "\r",
      " 70%|████████████████████████████████████████████████████████████████████████████████████████████████████████████████████████████████████████▌                                                          | 7/10 [09:42<04:13, 84.45s/it]"
     ]
    },
    {
     "name": "stdout",
     "output_type": "stream",
     "text": [
      "Epoch 1/5\n",
      "350/350 [==============================] - 14s 40ms/step - loss: 32.5487 - mae: 3.9511\n",
      "Epoch 2/5\n",
      "350/350 [==============================] - 14s 41ms/step - loss: 24.7987 - mae: 3.2477\n",
      "Epoch 3/5\n",
      "350/350 [==============================] - 15s 42ms/step - loss: 19.2939 - mae: 2.8538\n",
      "Epoch 4/5\n",
      "350/350 [==============================] - 15s 44ms/step - loss: 15.6599 - mae: 2.6718\n",
      "Epoch 5/5\n",
      "350/350 [==============================] - 15s 43ms/step - loss: 7.5424 - mae: 1.9526\n",
      "55/55 [==============================] - 5s 82ms/step\n",
      "11/11 [==============================] - 1s 89ms/step\n"
     ]
    },
    {
     "name": "stderr",
     "output_type": "stream",
     "text": [
      "\r",
      " 80%|████████████████████████████████████████████████████████████████████████████████████████████████████████████████████████████████████████████████████████████                                       | 8/10 [11:06<02:48, 84.12s/it]"
     ]
    },
    {
     "name": "stdout",
     "output_type": "stream",
     "text": [
      "Epoch 1/5\n",
      "350/350 [==============================] - 14s 40ms/step - loss: 36.0817 - mae: 4.0888\n",
      "Epoch 2/5\n",
      "350/350 [==============================] - 15s 41ms/step - loss: 22.6404 - mae: 3.1166\n",
      "Epoch 3/5\n",
      "350/350 [==============================] - 14s 41ms/step - loss: 18.4727 - mae: 2.9086\n",
      "Epoch 4/5\n",
      "350/350 [==============================] - 14s 41ms/step - loss: 12.3688 - mae: 2.3764\n",
      "Epoch 5/5\n",
      "350/350 [==============================] - 15s 42ms/step - loss: 8.4654 - mae: 2.1131\n",
      "55/55 [==============================] - 5s 91ms/step\n",
      "11/11 [==============================] - 1s 81ms/step\n"
     ]
    },
    {
     "name": "stderr",
     "output_type": "stream",
     "text": [
      "\r",
      " 90%|███████████████████████████████████████████████████████████████████████████████████████████████████████████████████████████████████████████████████████████████████████████████▌                   | 9/10 [12:28<01:23, 83.40s/it]"
     ]
    },
    {
     "name": "stdout",
     "output_type": "stream",
     "text": [
      "Epoch 1/5\n",
      "350/350 [==============================] - 15s 41ms/step - loss: 18.5294 - mae: 3.0955\n",
      "Epoch 2/5\n",
      "350/350 [==============================] - 14s 41ms/step - loss: 7.2669 - mae: 1.9719\n",
      "Epoch 3/5\n",
      "350/350 [==============================] - 14s 41ms/step - loss: 5.2834 - mae: 1.7057\n",
      "Epoch 4/5\n",
      "350/350 [==============================] - 14s 41ms/step - loss: 4.4533 - mae: 1.5587\n",
      "Epoch 5/5\n",
      "350/350 [==============================] - 15s 42ms/step - loss: 3.6408 - mae: 1.4017\n",
      "55/55 [==============================] - 5s 82ms/step\n",
      "11/11 [==============================] - 1s 81ms/step\n"
     ]
    },
    {
     "name": "stderr",
     "output_type": "stream",
     "text": [
      "100%|██████████████████████████████████████████████████████████████████████████████████████████████████████████████████████████████████████████████████████████████████████████████████████████████████| 10/10 [13:50<00:00, 83.00s/it]\n"
     ]
    }
   ],
   "source": [
    "#XVD\n",
    "k_selections = 10\n",
    "test_sample_size = 7\n",
    "RMSE_list = np.zeros(k_selections)\n",
    "for k in tqdm(range(k_selections)):\n",
    "    # Divide data into training and testing set and reshape\n",
    "    unique_test_id = random.sample(range(42),test_sample_size)\n",
    "    test_id = [list(range(i*50,i*50+50)) for i in unique_test_id]\n",
    "    test_id = [item for sublist in test_id for item in sublist]\n",
    "    x_train = clean_df.drop(test_id, axis=1).to_numpy()\n",
    "    y_train = cr.drop(test_id).to_numpy()\n",
    "    x_test = clean_df.iloc[:,test_id].to_numpy()\n",
    "    y_test = cr.iloc[test_id].to_numpy()\n",
    "    x_train = np.swapaxes(x_train, 0, 1)\n",
    "    x_test = np.swapaxes(x_test, 0, 1)\n",
    "    # Scale data\n",
    "    x_scaler_mean = np.mean(x_train)\n",
    "    x_scaler_std = np.std(x_train)\n",
    "    X_train = (x_train[:,:, np.newaxis]-x_scaler_mean)/x_scaler_std\n",
    "    X_test = (x_test[:, :, np.newaxis]-x_scaler_mean)/x_scaler_std\n",
    "    # Build model\n",
    "    model = buildmodel()\n",
    "    # Fit model\n",
    "    history = model.fit(X_train, y_train, epochs=5, batch_size=5)\n",
    "    # Have model make prediction\n",
    "    Y_pred_train = model.predict(X_train)\n",
    "    Y_pred_test = model.predict(X_test)\n",
    "    # Calculate and append RMSE\n",
    "    RMSE_list[k] = np.sqrt(np.mean(Y_pred_test-y_test)**2)"
   ]
  },
  {
   "cell_type": "code",
   "execution_count": 18,
   "id": "a9002040",
   "metadata": {},
   "outputs": [
    {
     "data": {
      "text/plain": [
       "(array([3., 0., 1., 1., 1., 1., 0., 1., 0., 2.]),\n",
       " array([0.30511473, 0.76649739, 1.22788006, 1.68926273, 2.15064539,\n",
       "        2.61202806, 3.07341073, 3.53479339, 3.99617606, 4.45755873,\n",
       "        4.91894139]),\n",
       " <BarContainer object of 10 artists>)"
      ]
     },
     "execution_count": 18,
     "metadata": {},
     "output_type": "execute_result"
    },
    {
     "data": {
      "image/png": "[encoded data removed]",
      "text/plain": [
       "<Figure size 640x480 with 1 Axes>"
      ]
     },
     "metadata": {},
     "output_type": "display_data"
    }
   ],
   "source": [
    "plt.hist(RMSE_list)"
   ]
  },
  {
   "cell_type": "code",
   "execution_count": 20,
   "id": "596ae04d",
   "metadata": {},
   "outputs": [
    {
     "data": {
      "text/plain": [
       "2.282017326725168"
      ]
     },
     "execution_count": 20,
     "metadata": {},
     "output_type": "execute_result"
    }
   ],
   "source": [
    "np.mean(RMSE_list)"
   ]
  }
 ],
 "metadata": {
  "kernelspec": {
   "display_name": "Python 3 (ipykernel)",
   "language": "python",
   "name": "python3"
  },
  "language_info": {
   "codemirror_mode": {
    "name": "ipython",
    "version": 3
   },
   "file_extension": ".py",
   "mimetype": "text/x-python",
   "name": "python",
   "nbconvert_exporter": "python",
   "pygments_lexer": "ipython3",
   "version": "3.10.5"
  }
 },
 "nbformat": 4,
 "nbformat_minor": 5
}
